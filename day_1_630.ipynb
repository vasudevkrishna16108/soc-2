{
  "nbformat": 4,
  "nbformat_minor": 0,
  "metadata": {
    "colab": {
      "provenance": []
    },
    "kernelspec": {
      "name": "python3",
      "display_name": "Python 3"
    },
    "language_info": {
      "name": "python"
    }
  },
  "cells": [
    {
      "cell_type": "code",
      "execution_count": null,
      "metadata": {
        "colab": {
          "base_uri": "https://localhost:8080/"
        },
        "id": "H0H46Xk3fN4I",
        "outputId": "9d84b163-50e2-4b0c-b031-5832b3791940"
      },
      "outputs": [
        {
          "output_type": "stream",
          "name": "stdout",
          "text": [
            "[1.  2.  3.  4.  5.6 6. ]\n",
            "[1 2 3 4 5 6]\n",
            "{1, 2, 3, 4, 5, 6}\n",
            "I love india.\n",
            "<class 'numpy.ndarray'>\n",
            "<class 'numpy.ndarray'>\n",
            "<class 'numpy.ndarray'>\n",
            "<class 'numpy.ndarray'>\n",
            "(1, 2, 3, 4, 5, 6)\n",
            "<class 'tuple'>\n",
            "I love india.\n",
            "<class 'str'>\n"
          ]
        },
        {
          "output_type": "execute_result",
          "data": {
            "text/plain": [
              "dtype('<U13')"
            ]
          },
          "metadata": {},
          "execution_count": 38
        }
      ],
      "source": [
        "#printing type and converting all data types into arrays using numpy\n",
        "import numpy as n\n",
        "l1=[1,2,3,4,5.6,6]\n",
        "t1=(1,2,3,4,5,6)\n",
        "s1={1,2,3,4,5,6}\n",
        "str1=\"I love india.\"\n",
        "arr=n.array(l1)\n",
        "arr2=n.array(t1)\n",
        "arr3=n.array(s1)\n",
        "arr4=n.array(str1)\n",
        "print(arr)\n",
        "print(arr2)\n",
        "print(arr3)\n",
        "print(arr4)\n",
        "print(type(arr))\n",
        "print(type(arr2))\n",
        "print(type(arr3))\n",
        "print(type(arr4))\n",
        "t=tuple(arr2)\n",
        "print(t)\n",
        "print(type(t))\n",
        "st=str(arr4)\n",
        "print(st)\n",
        "print(type(st))\n",
        "arr.dtype\n",
        "arr2.dtype\n",
        "arr3.dtype\n",
        "arr4.dtype"
      ]
    },
    {
      "cell_type": "code",
      "source": [
        "#To convert dictionary to array\n",
        "import numpy as np\n",
        "dict_1={\n",
        "    'name':'Ram',\n",
        "    'age':20\n",
        "}\n",
        "arr11=np.array(dict_1)\n",
        "print(arr11)\n",
        "arr11.dtype"
      ],
      "metadata": {
        "colab": {
          "base_uri": "https://localhost:8080/"
        },
        "id": "4cEkt9AkjsI5",
        "outputId": "f5c4143e-791e-4a24-9db4-0b5a56e31bd9"
      },
      "execution_count": 4,
      "outputs": [
        {
          "output_type": "stream",
          "name": "stdout",
          "text": [
            "{'name': 'Ram', 'age': 20}\n"
          ]
        },
        {
          "output_type": "execute_result",
          "data": {
            "text/plain": [
              "dtype('O')"
            ]
          },
          "metadata": {},
          "execution_count": 4
        }
      ]
    },
    {
      "cell_type": "code",
      "source": [
        "#To perform operations on all elements in array\n",
        "arr=np.array([1,2,3,4,5,6])\n",
        "print(arr*2) #multiplying with 2\n",
        "print(arr/3) #dividing with 3"
      ],
      "metadata": {
        "colab": {
          "base_uri": "https://localhost:8080/"
        },
        "id": "lM_r6TNmlANG",
        "outputId": "ccd75da2-f886-4f91-934f-2a6cafe9da3f"
      },
      "execution_count": 6,
      "outputs": [
        {
          "output_type": "stream",
          "name": "stdout",
          "text": [
            "[ 2  4  6  8 10 12]\n",
            "[0.33333333 0.66666667 1.         1.33333333 1.66666667 2.        ]\n"
          ]
        }
      ]
    },
    {
      "cell_type": "code",
      "source": [
        "#printing all datatype of a list which are converted into arrray by numpy\n",
        "for i in arr:\n",
        "  print(type(i))"
      ],
      "metadata": {
        "colab": {
          "base_uri": "https://localhost:8080/"
        },
        "id": "XHbp1eRZoP9W",
        "outputId": "75dcf116-7677-48de-da85-fa00a94b4232"
      },
      "execution_count": 7,
      "outputs": [
        {
          "output_type": "stream",
          "name": "stdout",
          "text": [
            "<class 'numpy.int64'>\n",
            "<class 'numpy.int64'>\n",
            "<class 'numpy.int64'>\n",
            "<class 'numpy.int64'>\n",
            "<class 'numpy.int64'>\n",
            "<class 'numpy.int64'>\n"
          ]
        }
      ]
    },
    {
      "cell_type": "code",
      "source": [
        "#Add element at last to an array\n",
        "arr=np.append(arr,[1.1,1.2,1.3])\n",
        "print(arr)"
      ],
      "metadata": {
        "colab": {
          "base_uri": "https://localhost:8080/"
        },
        "id": "ydqxGkL3pTQi",
        "outputId": "c9edd72e-ad59-47b1-85c3-a0935c57dedd"
      },
      "execution_count": 8,
      "outputs": [
        {
          "output_type": "stream",
          "name": "stdout",
          "text": [
            "[1.  2.  3.  4.  5.  6.  1.1 1.2 1.3]\n"
          ]
        }
      ]
    },
    {
      "cell_type": "code",
      "source": [
        "#Add element at a particular position\n",
        "arra=np.insert(arr,0,111)\n",
        "print(arra)"
      ],
      "metadata": {
        "colab": {
          "base_uri": "https://localhost:8080/"
        },
        "id": "2KTQlS1OquU3",
        "outputId": "54997339-7642-4cd9-b2d6-1672b2c50b47"
      },
      "execution_count": 9,
      "outputs": [
        {
          "output_type": "stream",
          "name": "stdout",
          "text": [
            "[111.    1.    2.    3.    4.    5.    6.    1.1   1.2   1.3]\n"
          ]
        }
      ]
    },
    {
      "cell_type": "code",
      "source": [
        "#Add element at multiple particular positions\n",
        "arra=np.insert(arr,[1,3,5,7],[222,333,444,555])\n",
        "print(arra)"
      ],
      "metadata": {
        "colab": {
          "base_uri": "https://localhost:8080/"
        },
        "id": "FU7pBUgVrXHF",
        "outputId": "f6b64e83-cc92-43c5-b5e8-9145c7fb51f9"
      },
      "execution_count": 10,
      "outputs": [
        {
          "output_type": "stream",
          "name": "stdout",
          "text": [
            "[  1.  222.    2.    3.  333.    4.    5.  444.    6.    1.1 555.    1.2\n",
            "   1.3]\n"
          ]
        }
      ]
    },
    {
      "cell_type": "code",
      "source": [
        "#To delete a pariticular value\n",
        "p=np.delete(arra,np.where(arra==3))\n",
        "print(p)"
      ],
      "metadata": {
        "colab": {
          "base_uri": "https://localhost:8080/"
        },
        "id": "6ND7Y06usco9",
        "outputId": "bea4ba79-0ef7-4dd3-87ac-b02fef8505a8"
      },
      "execution_count": 11,
      "outputs": [
        {
          "output_type": "stream",
          "name": "stdout",
          "text": [
            "[  1.  222.    2.  333.    4.    5.  444.    6.    1.1 555.    1.2   1.3]\n"
          ]
        }
      ]
    },
    {
      "cell_type": "code",
      "source": [
        "#To delete a multiple values at multiple indexes\n",
        "p=np.delete(arra,[1,2,4])\n",
        "print(p)"
      ],
      "metadata": {
        "colab": {
          "base_uri": "https://localhost:8080/"
        },
        "id": "V_xnuNSmtp38",
        "outputId": "442264ff-0ede-490b-b511-b404aa4b78fc"
      },
      "execution_count": 12,
      "outputs": [
        {
          "output_type": "stream",
          "name": "stdout",
          "text": [
            "[  1.    3.    4.    5.  444.    6.    1.1 555.    1.2   1.3]\n"
          ]
        }
      ]
    },
    {
      "cell_type": "code",
      "source": [
        "#To delete a multiple value\n",
        "p=np.setdiff1d(arra,[1,4])\n",
        "print(p)"
      ],
      "metadata": {
        "colab": {
          "base_uri": "https://localhost:8080/"
        },
        "id": "DNFxWCGot_Tn",
        "outputId": "4145ba39-f2c1-48be-c7ea-b1fe9730a781"
      },
      "execution_count": 13,
      "outputs": [
        {
          "output_type": "stream",
          "name": "stdout",
          "text": [
            "[  1.1   1.2   1.3   2.    3.    5.    6.  222.  333.  444.  555. ]\n"
          ]
        }
      ]
    },
    {
      "cell_type": "code",
      "source": [
        "#filter values using numpy by book\n",
        "l=[1,2,3,4,6]\n",
        "ar=np.array(l)\n",
        "print(ar<6) #prints true when condition is true else false"
      ],
      "metadata": {
        "colab": {
          "base_uri": "https://localhost:8080/"
        },
        "id": "Ewt1GdGjvuWy",
        "outputId": "7aa39b8d-82d4-4cf9-f18b-c8b57aa7e83f"
      },
      "execution_count": 14,
      "outputs": [
        {
          "output_type": "stream",
          "name": "stdout",
          "text": [
            "[ True  True  True  True False]\n"
          ]
        }
      ]
    },
    {
      "cell_type": "code",
      "source": [
        "#filter values using numpy\n",
        "print(ar[ar<5]) #To get values"
      ],
      "metadata": {
        "colab": {
          "base_uri": "https://localhost:8080/"
        },
        "id": "0FnGlwaXuJrV",
        "outputId": "f4f4eb92-3e77-4903-880a-42ca70290e92"
      },
      "execution_count": 15,
      "outputs": [
        {
          "output_type": "stream",
          "name": "stdout",
          "text": [
            "[1 2 3 4]\n"
          ]
        }
      ]
    },
    {
      "cell_type": "code",
      "source": [
        "#To print specific values which satisfies given condition in bool\n",
        "l=[5,10,15,20,25,30,35,40,45,50,55,60]\n",
        "a=np.array(l)\n",
        "print((a>20)&(a<50))"
      ],
      "metadata": {
        "colab": {
          "base_uri": "https://localhost:8080/"
        },
        "id": "6fwDXVnBwXWP",
        "outputId": "44b8e909-c92a-41f4-d8a1-c452aa0af115"
      },
      "execution_count": 16,
      "outputs": [
        {
          "output_type": "stream",
          "name": "stdout",
          "text": [
            "[False False False False  True  True  True  True  True False False False]\n"
          ]
        }
      ]
    },
    {
      "cell_type": "code",
      "source": [
        "#To print specific values which satisfies given condition\n",
        "l=[5,10,15,20,25,30,35,40,45,50,55,60]\n",
        "a=np.array(l)\n",
        "a[(a>20)&(a<50)]"
      ],
      "metadata": {
        "colab": {
          "base_uri": "https://localhost:8080/"
        },
        "id": "N6FBAIRuxwPk",
        "outputId": "e9fab4a0-b564-4e6a-f787-0f4e148630a0"
      },
      "execution_count": 17,
      "outputs": [
        {
          "output_type": "execute_result",
          "data": {
            "text/plain": [
              "array([25, 30, 35, 40, 45])"
            ]
          },
          "metadata": {},
          "execution_count": 17
        }
      ]
    },
    {
      "cell_type": "code",
      "source": [
        "#To replace value\n",
        "a[a==25]=95\n",
        "print(a)"
      ],
      "metadata": {
        "colab": {
          "base_uri": "https://localhost:8080/"
        },
        "id": "juRPUn4kyiNC",
        "outputId": "6e32e5b3-8e2a-4fc2-cb4b-bac4193261d2"
      },
      "execution_count": 18,
      "outputs": [
        {
          "output_type": "stream",
          "name": "stdout",
          "text": [
            "[ 5 10 15 20 95 30 35 40 45 50 55 60]\n"
          ]
        }
      ]
    },
    {
      "cell_type": "code",
      "source": [
        "#To create arrays of zeroes 1d\n",
        "print(np.zeros(6))\n",
        "#To create arrays of zeroes 2d\n",
        "print(np.zeros([5,5]))"
      ],
      "metadata": {
        "colab": {
          "base_uri": "https://localhost:8080/"
        },
        "id": "CDYPDyAGzOwM",
        "outputId": "714f0000-701a-42d3-87b6-48bfdb985424"
      },
      "execution_count": 19,
      "outputs": [
        {
          "output_type": "stream",
          "name": "stdout",
          "text": [
            "[0. 0. 0. 0. 0. 0.]\n",
            "[[0. 0. 0. 0. 0.]\n",
            " [0. 0. 0. 0. 0.]\n",
            " [0. 0. 0. 0. 0.]\n",
            " [0. 0. 0. 0. 0.]\n",
            " [0. 0. 0. 0. 0.]]\n"
          ]
        }
      ]
    },
    {
      "cell_type": "code",
      "source": [
        "#To create arrays of ones 1d\n",
        "print(np.ones(6))\n",
        "#To create arrays of ones 2d\n",
        "print(np.ones([5,5]))"
      ],
      "metadata": {
        "colab": {
          "base_uri": "https://localhost:8080/"
        },
        "id": "ECXZzn0ezeQq",
        "outputId": "45bd45e2-d267-432f-eb59-da72c7f7d7b7"
      },
      "execution_count": 20,
      "outputs": [
        {
          "output_type": "stream",
          "name": "stdout",
          "text": [
            "[1. 1. 1. 1. 1. 1.]\n",
            "[[1. 1. 1. 1. 1.]\n",
            " [1. 1. 1. 1. 1.]\n",
            " [1. 1. 1. 1. 1.]\n",
            " [1. 1. 1. 1. 1.]\n",
            " [1. 1. 1. 1. 1.]]\n"
          ]
        }
      ]
    },
    {
      "cell_type": "code",
      "source": [
        "#To find the datatype using numpy\n",
        "arr.dtype"
      ],
      "metadata": {
        "colab": {
          "base_uri": "https://localhost:8080/"
        },
        "id": "KHAogzV70mYc",
        "outputId": "a5cf314f-bb9f-4de6-dc1c-c566ddc1728e"
      },
      "execution_count": 21,
      "outputs": [
        {
          "output_type": "execute_result",
          "data": {
            "text/plain": [
              "dtype('float64')"
            ]
          },
          "metadata": {},
          "execution_count": 21
        }
      ]
    },
    {
      "cell_type": "code",
      "source": [
        "#To print dtype of a integer array\n",
        "print(a.dtype)\n",
        "print(a)"
      ],
      "metadata": {
        "colab": {
          "base_uri": "https://localhost:8080/"
        },
        "id": "X59TRtiU0ug1",
        "outputId": "2bf7d146-8c17-48d2-bc73-d745a7fc24d2"
      },
      "execution_count": 22,
      "outputs": [
        {
          "output_type": "stream",
          "name": "stdout",
          "text": [
            "int64\n",
            "[ 5 10 15 20 95 30 35 40 45 50 55 60]\n"
          ]
        }
      ]
    },
    {
      "cell_type": "markdown",
      "source": [
        "Type casting of arrays"
      ],
      "metadata": {
        "id": "OPUN_U195TFR"
      }
    },
    {
      "cell_type": "code",
      "source": [
        "#To change size of a datatype\n",
        "a=np.zeros([2,4],dtype='float16')\n",
        "a"
      ],
      "metadata": {
        "colab": {
          "base_uri": "https://localhost:8080/"
        },
        "id": "MIxcs1VU29G-",
        "outputId": "d58c5a2b-8581-415e-8a28-521c5ae5f400"
      },
      "execution_count": 23,
      "outputs": [
        {
          "output_type": "execute_result",
          "data": {
            "text/plain": [
              "array([[0., 0., 0., 0.],\n",
              "       [0., 0., 0., 0.]], dtype=float16)"
            ]
          },
          "metadata": {},
          "execution_count": 23
        }
      ]
    },
    {
      "cell_type": "code",
      "source": [
        "#To convert datatype after array creation\n",
        "np.int16(a)"
      ],
      "metadata": {
        "colab": {
          "base_uri": "https://localhost:8080/"
        },
        "id": "-3hD9dKo4vbq",
        "outputId": "a6a62c45-bebd-4c21-e68c-deec2554e841"
      },
      "execution_count": 24,
      "outputs": [
        {
          "output_type": "execute_result",
          "data": {
            "text/plain": [
              "array([[0, 0, 0, 0],\n",
              "       [0, 0, 0, 0]], dtype=int16)"
            ]
          },
          "metadata": {},
          "execution_count": 24
        }
      ]
    },
    {
      "cell_type": "code",
      "source": [
        "#To create array of range 50\n",
        "n=np.array(range(1,51))\n",
        "print(n)"
      ],
      "metadata": {
        "colab": {
          "base_uri": "https://localhost:8080/"
        },
        "id": "f_dKvJKH6Jkm",
        "outputId": "e9cd055d-9183-4f05-c9d6-91be2fe027ac"
      },
      "execution_count": 25,
      "outputs": [
        {
          "output_type": "stream",
          "name": "stdout",
          "text": [
            "[ 1  2  3  4  5  6  7  8  9 10 11 12 13 14 15 16 17 18 19 20 21 22 23 24\n",
            " 25 26 27 28 29 30 31 32 33 34 35 36 37 38 39 40 41 42 43 44 45 46 47 48\n",
            " 49 50]\n"
          ]
        }
      ]
    },
    {
      "cell_type": "code",
      "source": [
        "#To convert 1d to multi-dimensional array\n",
        "nn=n.reshape(5,10)\n",
        "print(nn)"
      ],
      "metadata": {
        "colab": {
          "base_uri": "https://localhost:8080/"
        },
        "id": "EOD6Vvp36hA6",
        "outputId": "b808e7e2-c77b-49d8-f327-59735c6a600b"
      },
      "execution_count": 26,
      "outputs": [
        {
          "output_type": "stream",
          "name": "stdout",
          "text": [
            "[[ 1  2  3  4  5  6  7  8  9 10]\n",
            " [11 12 13 14 15 16 17 18 19 20]\n",
            " [21 22 23 24 25 26 27 28 29 30]\n",
            " [31 32 33 34 35 36 37 38 39 40]\n",
            " [41 42 43 44 45 46 47 48 49 50]]\n"
          ]
        }
      ]
    },
    {
      "cell_type": "code",
      "source": [
        "#To print identity matrix of multi-dimensional array\n",
        "np.ones([5,5])"
      ],
      "metadata": {
        "colab": {
          "base_uri": "https://localhost:8080/"
        },
        "id": "vPwOZHKj7enp",
        "outputId": "dc53a4d9-5eaa-4d3f-b640-22c107feb7d9"
      },
      "execution_count": 27,
      "outputs": [
        {
          "output_type": "execute_result",
          "data": {
            "text/plain": [
              "array([[1., 1., 1., 1., 1.],\n",
              "       [1., 1., 1., 1., 1.],\n",
              "       [1., 1., 1., 1., 1.],\n",
              "       [1., 1., 1., 1., 1.],\n",
              "       [1., 1., 1., 1., 1.]])"
            ]
          },
          "metadata": {},
          "execution_count": 27
        }
      ]
    },
    {
      "cell_type": "code",
      "source": [
        "#To perform slicing in multidimensional array\n",
        "#syntax: array_name[row,start:end]\n",
        "print(nn[1,2:6])"
      ],
      "metadata": {
        "colab": {
          "base_uri": "https://localhost:8080/"
        },
        "id": "bS1UuIG58Jy8",
        "outputId": "4fc0d53d-df98-40b0-f447-22a2d35e6827"
      },
      "execution_count": 28,
      "outputs": [
        {
          "output_type": "stream",
          "name": "stdout",
          "text": [
            "[13 14 15 16]\n"
          ]
        }
      ]
    },
    {
      "cell_type": "code",
      "source": [
        "#To find mean\n",
        "# syntax:numpy.mean(array_name)\n",
        "l=[1,2,3,4,5,6,7]\n",
        "a=np.array(l)\n",
        "print(np.mean(a))"
      ],
      "metadata": {
        "colab": {
          "base_uri": "https://localhost:8080/"
        },
        "id": "aKJQ1A7C8_sc",
        "outputId": "412099d2-fc2f-45a1-8581-7b039d75bc59"
      },
      "execution_count": 29,
      "outputs": [
        {
          "output_type": "stream",
          "name": "stdout",
          "text": [
            "4.0\n"
          ]
        }
      ]
    },
    {
      "cell_type": "code",
      "source": [
        "#To find median\n",
        "# syntax:numpy.median(array_name)\n",
        "l=[1,2,3,4,5,6,7] #for even no of elements in array\n",
        "a=np.array(l)\n",
        "print(np.median(a))\n",
        "l1=[1,2,3,4,5,6,7,8] #for even no of elements in array\n",
        "a=np.array(l)\n",
        "print(np.median(a))"
      ],
      "metadata": {
        "colab": {
          "base_uri": "https://localhost:8080/"
        },
        "id": "GWeVRHF29wSQ",
        "outputId": "b59950f4-ccbc-497a-b64b-0adf6a3e512f"
      },
      "execution_count": 35,
      "outputs": [
        {
          "output_type": "stream",
          "name": "stdout",
          "text": [
            "4.0\n",
            "4.0\n"
          ]
        }
      ]
    },
    {
      "cell_type": "code",
      "source": [
        "#To find sum\n",
        "#syntax:numpy.sum(array_name)\n",
        "l=[1,2,3,4,5,6,7]\n",
        "a=np.array(l)\n",
        "print(np.sum(a))"
      ],
      "metadata": {
        "colab": {
          "base_uri": "https://localhost:8080/"
        },
        "id": "g4w0KtYf5cXC",
        "outputId": "70d593ef-3ef2-4964-8026-1c5bdd6e52de"
      },
      "execution_count": 32,
      "outputs": [
        {
          "output_type": "stream",
          "name": "stdout",
          "text": [
            "28\n"
          ]
        }
      ]
    },
    {
      "cell_type": "code",
      "source": [
        "#To find variance\n",
        "#syntax:numpy.var(array_name)\n",
        "l=[1,2,3,4,5,6,7]\n",
        "a=np.array(l)\n",
        "print(np.var(a))"
      ],
      "metadata": {
        "colab": {
          "base_uri": "https://localhost:8080/"
        },
        "id": "jm-L9lAh600B",
        "outputId": "733e6fcc-db30-476f-f031-5566e0c1c02c"
      },
      "execution_count": 33,
      "outputs": [
        {
          "output_type": "stream",
          "name": "stdout",
          "text": [
            "4.0\n"
          ]
        }
      ]
    },
    {
      "cell_type": "code",
      "source": [
        "#To find standard deviation\n",
        "#syntax:numpy.std(array_name)\n",
        "l=[1,2,3,4,5,6,7]\n",
        "a=np.array(l)\n",
        "print(np.std(a))"
      ],
      "metadata": {
        "colab": {
          "base_uri": "https://localhost:8080/"
        },
        "id": "P0PeK5Pg67lj",
        "outputId": "037137d5-611e-4e6e-8b88-ccbcf28ccf96"
      },
      "execution_count": 34,
      "outputs": [
        {
          "output_type": "stream",
          "name": "stdout",
          "text": [
            "2.0\n"
          ]
        }
      ]
    }
  ]
}