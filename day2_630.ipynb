{
 "cells": [
  {
   "cell_type": "code",
   "execution_count": 11,
   "id": "5ba26c0e",
   "metadata": {},
   "outputs": [
    {
     "name": "stdout",
     "output_type": "stream",
     "text": [
      "<class 'list'>\n",
      "[ 1  2  3  4  5  6  7  8  9 10]\n",
      "<class 'numpy.ndarray'>\n",
      "10\n"
     ]
    }
   ],
   "source": [
    "#To convert list to array, print array and length of array\n",
    "import numpy \n",
    "list_1=[1,2,3,4,5,6,7,8,9,10]\n",
    "print(type(list_1)) #to print type of list_1\n",
    "array_1=numpy.array(list_1) #To convert list to array\n",
    "print(array_1) #To print array \n",
    "print(type(array_1)) #To print array_1 type\n",
    "print(len(array_1)) #To print array length"
   ]
  },
  {
   "cell_type": "code",
   "execution_count": 5,
   "id": "003d6a9c",
   "metadata": {},
   "outputs": [
    {
     "data": {
      "text/plain": [
       "array([[1., 0., 0., 0., 0.],\n",
       "       [0., 1., 0., 0., 0.],\n",
       "       [0., 0., 1., 0., 0.],\n",
       "       [0., 0., 0., 1., 0.],\n",
       "       [0., 0., 0., 0., 1.]])"
      ]
     },
     "execution_count": 5,
     "metadata": {},
     "output_type": "execute_result"
    }
   ],
   "source": [
    "#To print diagonal matrix method 1\n",
    "numpy.eye(5)"
   ]
  },
  {
   "cell_type": "code",
   "execution_count": 6,
   "id": "75aeefe4",
   "metadata": {},
   "outputs": [
    {
     "data": {
      "text/plain": [
       "array([[1., 0., 0., 0., 0.],\n",
       "       [0., 1., 0., 0., 0.],\n",
       "       [0., 0., 1., 0., 0.],\n",
       "       [0., 0., 0., 1., 0.],\n",
       "       [0., 0., 0., 0., 1.]])"
      ]
     },
     "execution_count": 6,
     "metadata": {},
     "output_type": "execute_result"
    }
   ],
   "source": [
    "#To print diagonal matrix method 2\n",
    "numpy.identity(5)"
   ]
  },
  {
   "cell_type": "code",
   "execution_count": 8,
   "id": "75b536c1",
   "metadata": {},
   "outputs": [
    {
     "data": {
      "text/plain": [
       "array([[1., 0., 0., 0.],\n",
       "       [0., 1., 0., 0.],\n",
       "       [0., 0., 1., 0.]])"
      ]
     },
     "execution_count": 8,
     "metadata": {},
     "output_type": "execute_result"
    }
   ],
   "source": [
    "#To print m X n diagonal matrix\n",
    "numpy.eye(3,4)"
   ]
  },
  {
   "cell_type": "code",
   "execution_count": 26,
   "id": "c04ee5f1",
   "metadata": {},
   "outputs": [
    {
     "name": "stdout",
     "output_type": "stream",
     "text": [
      "[[ 0  1  2  3  4]\n",
      " [ 5  6  7  8  9]\n",
      " [10 11 12 13 14]\n",
      " [15 16 17 18 19]\n",
      " [20 21 22 23 24]]\n"
     ]
    }
   ],
   "source": [
    "#To reshape an existing array\n",
    "list_1=range(25)\n",
    "array_1=numpy.array(list_1)\n",
    "array_1=array_1.reshape(5,5)\n",
    "print(array_1)"
   ]
  },
  {
   "cell_type": "code",
   "execution_count": 27,
   "id": "ca96c5ac",
   "metadata": {},
   "outputs": [
    {
     "name": "stdout",
     "output_type": "stream",
     "text": [
      "[16 17 18 19]\n"
     ]
    }
   ],
   "source": [
    "#Slicing of array\n",
    "print(array_1[3,1:7])"
   ]
  },
  {
   "cell_type": "code",
   "execution_count": 28,
   "id": "0f48c0cf",
   "metadata": {},
   "outputs": [
    {
     "data": {
      "text/plain": [
       "(5, 5)"
      ]
     },
     "execution_count": 28,
     "metadata": {},
     "output_type": "execute_result"
    }
   ],
   "source": [
    "#To print dimensions of matrix\n",
    "array_1.shape"
   ]
  },
  {
   "cell_type": "code",
   "execution_count": 35,
   "id": "41e7cdf9",
   "metadata": {},
   "outputs": [
    {
     "data": {
      "text/plain": [
       "array([[ 6,  7],\n",
       "       [11, 12]])"
      ]
     },
     "execution_count": 35,
     "metadata": {},
     "output_type": "execute_result"
    }
   ],
   "source": [
    "#To print sub-matrix\n",
    "array_1[1:3,1:3]"
   ]
  },
  {
   "cell_type": "code",
   "execution_count": 22,
   "id": "ff97891c",
   "metadata": {},
   "outputs": [
    {
     "data": {
      "text/plain": [
       "array([[1.+0.j, 0.+0.j, 0.+0.j, 0.+0.j, 0.+0.j],\n",
       "       [0.+0.j, 1.+0.j, 0.+0.j, 0.+0.j, 0.+0.j],\n",
       "       [0.+0.j, 0.+0.j, 1.+0.j, 0.+0.j, 0.+0.j],\n",
       "       [0.+0.j, 0.+0.j, 0.+0.j, 1.+0.j, 0.+0.j],\n",
       "       [0.+0.j, 0.+0.j, 0.+0.j, 0.+0.j, 1.+0.j]])"
      ]
     },
     "execution_count": 22,
     "metadata": {},
     "output_type": "execute_result"
    }
   ],
   "source": [
    "#To print complex matrix\n",
    "numpy.identity(5,dtype=complex)"
   ]
  },
  {
   "cell_type": "code",
   "execution_count": 34,
   "id": "abc33cbf",
   "metadata": {},
   "outputs": [
    {
     "data": {
      "text/plain": [
       "array([[ 6,  7],\n",
       "       [11, 12]])"
      ]
     },
     "execution_count": 34,
     "metadata": {},
     "output_type": "execute_result"
    }
   ],
   "source": [
    "#To print sub-matrix\n",
    "array_1[-4:-2,-4:-2]"
   ]
  },
  {
   "cell_type": "code",
   "execution_count": 37,
   "id": "9104fa76",
   "metadata": {},
   "outputs": [
    {
     "name": "stdout",
     "output_type": "stream",
     "text": [
      "4.5\n"
     ]
    }
   ],
   "source": [
    "#To find mean\n",
    "list_1=[1,2,3,4,5,6,7,8]\n",
    "array_1=numpy.array(list_1)\n",
    "print(array_1.mean())"
   ]
  },
  {
   "cell_type": "code",
   "execution_count": 39,
   "id": "735cf29f",
   "metadata": {},
   "outputs": [
    {
     "name": "stdout",
     "output_type": "stream",
     "text": [
      "4.5\n"
     ]
    }
   ],
   "source": [
    "#To find median\n",
    "print(numpy.median(array_1))"
   ]
  },
  {
   "cell_type": "code",
   "execution_count": 55,
   "id": "ae1dfa1d",
   "metadata": {},
   "outputs": [
    {
     "name": "stdout",
     "output_type": "stream",
     "text": [
      "[100 105 110 115 120 125 130 135 140 145]\n"
     ]
    }
   ],
   "source": [
    "#To find sum\n",
    "print(sum(array_1))"
   ]
  },
  {
   "cell_type": "code",
   "execution_count": 56,
   "id": "d03e7690",
   "metadata": {},
   "outputs": [
    {
     "data": {
      "text/plain": [
       "208.25"
      ]
     },
     "execution_count": 56,
     "metadata": {},
     "output_type": "execute_result"
    }
   ],
   "source": [
    "#To find variance\n",
    "numpy.var(array_1)"
   ]
  },
  {
   "cell_type": "code",
   "execution_count": 58,
   "id": "03dff0a4",
   "metadata": {},
   "outputs": [
    {
     "data": {
      "text/plain": [
       "6.666666666666667"
      ]
     },
     "execution_count": 58,
     "metadata": {},
     "output_type": "execute_result"
    }
   ],
   "source": [
    "#To find variance\n",
    "a=range(9)\n",
    "ar=numpy.array(a)\n",
    "numpy.var(ar,axis=0)"
   ]
  },
  {
   "cell_type": "code",
   "execution_count": 61,
   "id": "70fe345b",
   "metadata": {},
   "outputs": [
    {
     "data": {
      "text/plain": [
       "6.666666666666667"
      ]
     },
     "execution_count": 61,
     "metadata": {},
     "output_type": "execute_result"
    }
   ],
   "source": [
    "#To find variance\n",
    "a=range(9)\n",
    "ar=numpy.array(a)\n",
    "numpy.var(ar,axis=0)"
   ]
  },
  {
   "cell_type": "code",
   "execution_count": 43,
   "id": "3509eed3",
   "metadata": {},
   "outputs": [
    {
     "data": {
      "text/plain": [
       "2.29128784747792"
      ]
     },
     "execution_count": 43,
     "metadata": {},
     "output_type": "execute_result"
    }
   ],
   "source": [
    "#To find standard deviation\n",
    "numpy.std(array_1)"
   ]
  },
  {
   "cell_type": "code",
   "execution_count": 46,
   "id": "f295804d",
   "metadata": {},
   "outputs": [
    {
     "name": "stdout",
     "output_type": "stream",
     "text": [
      "[[ 0  1  2  3  4  5  6  7  8  9]\n",
      " [10 11 12 13 14 15 16 17 18 19]\n",
      " [20 21 22 23 24 25 26 27 28 29]\n",
      " [30 31 32 33 34 35 36 37 38 39]\n",
      " [40 41 42 43 44 45 46 47 48 49]]\n"
     ]
    }
   ],
   "source": [
    "#To reshape an existing array\n",
    "list_1=range(50)\n",
    "array_1=numpy.array(list_1)\n",
    "array_1=array_1.reshape(5,10)\n",
    "print(array_1)"
   ]
  },
  {
   "cell_type": "code",
   "execution_count": 71,
   "id": "d03331d1",
   "metadata": {},
   "outputs": [
    {
     "data": {
      "text/plain": [
       "(array([ 1.  ,  5.75, 10.5 , 15.25, 20.  ]), 4.75)"
      ]
     },
     "execution_count": 71,
     "metadata": {},
     "output_type": "execute_result"
    }
   ],
   "source": [
    "numpy.linspace(1,20,5,retstep=True)"
   ]
  },
  {
   "cell_type": "code",
   "execution_count": 75,
   "id": "47eabd97",
   "metadata": {},
   "outputs": [
    {
     "data": {
      "text/plain": [
       "5"
      ]
     },
     "execution_count": 75,
     "metadata": {},
     "output_type": "execute_result"
    }
   ],
   "source": [
    "numpy.random.randint(10)"
   ]
  },
  {
   "cell_type": "code",
   "execution_count": 84,
   "id": "ce6fa54a",
   "metadata": {},
   "outputs": [
    {
     "data": {
      "text/plain": [
       "array([0.58833606, 0.98541566, 0.08610926, 0.46742413])"
      ]
     },
     "execution_count": 84,
     "metadata": {},
     "output_type": "execute_result"
    }
   ],
   "source": [
    "numpy.random.rand(4)"
   ]
  },
  {
   "cell_type": "code",
   "execution_count": null,
   "id": "b79aeafc",
   "metadata": {},
   "outputs": [],
   "source": []
  }
 ],
 "metadata": {
  "kernelspec": {
   "display_name": "Python 3 (ipykernel)",
   "language": "python",
   "name": "python3"
  },
  "language_info": {
   "codemirror_mode": {
    "name": "ipython",
    "version": 3
   },
   "file_extension": ".py",
   "mimetype": "text/x-python",
   "name": "python",
   "nbconvert_exporter": "python",
   "pygments_lexer": "ipython3",
   "version": "3.11.5"
  }
 },
 "nbformat": 4,
 "nbformat_minor": 5
}
